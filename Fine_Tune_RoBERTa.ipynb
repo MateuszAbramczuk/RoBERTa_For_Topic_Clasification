{
 "cells": [
  {
   "cell_type": "code",
   "execution_count": null,
   "metadata": {},
   "outputs": [],
   "source": [
    "import torch\n",
    "import os\n",
    "import pandas as pd\n",
    "import seaborn as sns\n",
    "import matplotlib.pyplot as plt\n",
    "import numpy as np\n",
    "from torch.utils.data import DataLoader, Dataset\n",
    "from transformers import RobertaTokenizer, RobertaModel, RobertaForSequenceClassification, AdamW, get_linear_schedule_with_warmup\n",
    "from sklearn.model_selection import train_test_split\n",
    "from sklearn.metrics import accuracy_score, recall_score, f1_score, confusion_matrix, classification_report, precision_score"
   ]
  },
  {
   "cell_type": "code",
   "execution_count": null,
   "metadata": {},
   "outputs": [],
   "source": [
    "df= pd.read_csv('/content/drive/MyDrive/Master/active_learning2.csv')\n",
    "df['textOriginal'] = df['textOriginal'].astype(str)\n",
    "df['sentiment'] = df['sentiment'].apply(lambda x: 1 if x > 0 else 0 if x <= 0 else x)\n",
    "df['title'] = df['title'].astype(str)\n",
    "df['video_or_channel'] = df['video_or_channel'].astype(int)\n",
    "df = df.dropna(subset='sentiment')\n",
    "df['comment'] = \"[CHANNEL]\" +df['channel_name'] + \"[COMMENT] \" + df['textOriginal'] + \" [TITLE] \" + df['title']"
   ]
  }
 ],
 "metadata": {
  "kernelspec": {
   "display_name": "master2",
   "language": "python",
   "name": "python3"
  },
  "language_info": {
   "name": "python",
   "version": "3.12.3"
  }
 },
 "nbformat": 4,
 "nbformat_minor": 2
}
